{
  "metadata": {
    "kernelspec": {
      "name": "python",
      "display_name": "Python (Pyodide)",
      "language": "python"
    },
    "language_info": {
      "name": "python",
      "version": "3.10.14",
      "mimetype": "text/x-python",
      "codemirror_mode": {
        "name": "ipython",
        "version": 3
      },
      "pygments_lexer": "ipython3",
      "nbconvert_exporter": "python",
      "file_extension": ".py"
    },
    "colab": {
      "provenance": []
    }
  },
  "nbformat_minor": 5,
  "nbformat": 4,
  "cells": [
    {
      "id": "06580171-e790-4d31-9580-80b603989622",
      "cell_type": "code",
      "source": [
        "%pip install pandas"
      ],
      "metadata": {
        "trusted": true,
        "colab": {
          "base_uri": "https://localhost:8080/"
        },
        "id": "06580171-e790-4d31-9580-80b603989622",
        "outputId": "fb0f474a-bf3e-4103-d199-10e14d0772a3"
      },
      "outputs": [
        {
          "output_type": "stream",
          "name": "stdout",
          "text": [
            "Requirement already satisfied: pandas in /usr/local/lib/python3.10/dist-packages (2.2.2)\n",
            "Requirement already satisfied: numpy>=1.22.4 in /usr/local/lib/python3.10/dist-packages (from pandas) (1.26.4)\n",
            "Requirement already satisfied: python-dateutil>=2.8.2 in /usr/local/lib/python3.10/dist-packages (from pandas) (2.8.2)\n",
            "Requirement already satisfied: pytz>=2020.1 in /usr/local/lib/python3.10/dist-packages (from pandas) (2024.2)\n",
            "Requirement already satisfied: tzdata>=2022.7 in /usr/local/lib/python3.10/dist-packages (from pandas) (2024.2)\n",
            "Requirement already satisfied: six>=1.5 in /usr/local/lib/python3.10/dist-packages (from python-dateutil>=2.8.2->pandas) (1.16.0)\n"
          ]
        }
      ],
      "execution_count": null
    },
    {
      "cell_type": "code",
      "source": [
        "# Uncomment this if running in Google Colab\n",
        "from google.colab import drive\n",
        "drive.mount('/content/drive')"
      ],
      "metadata": {
        "colab": {
          "base_uri": "https://localhost:8080/"
        },
        "id": "S_wOO7A7Pss-",
        "outputId": "d9e71836-97d9-4a2d-af11-0a0574189324"
      },
      "id": "S_wOO7A7Pss-",
      "execution_count": null,
      "outputs": [
        {
          "output_type": "stream",
          "name": "stdout",
          "text": [
            "Mounted at /content/drive\n"
          ]
        }
      ]
    },
    {
      "id": "decca233-9d19-46af-bcb2-271bd484d5bd",
      "cell_type": "code",
      "source": [
        "import pandas as pd\n",
        "from fractions import Fraction\n",
        "\n",
        "file_path = '/content/drive/MyDrive/Horses.csv'\n",
        "\n",
        "# Use this path for local environment\n",
        "#file_path = 'Horses.csv'\n",
        "\n",
        "\n",
        "df = pd.read_csv(file_path)\n",
        "df.head()"
      ],
      "metadata": {
        "trusted": true,
        "colab": {
          "base_uri": "https://localhost:8080/",
          "height": 235
        },
        "id": "decca233-9d19-46af-bcb2-271bd484d5bd",
        "outputId": "ab563752-a856-460b-ab6f-97bd5880d287"
      },
      "outputs": [
        {
          "output_type": "execute_result",
          "data": {
            "text/plain": [
              "   RaceID  HorseID  Cloth  Stall  WeightValue   JockeyID  AllowanceValue  \\\n",
              "0  989418  2963489      7    5.0          132  1398052.0             NaN   \n",
              "1  989418  2972665     13    6.0          132  1165412.0             NaN   \n",
              "2  989418  2972662      9    7.0          132  1239852.0             NaN   \n",
              "3  989418  2960365      1   12.0          132  1417524.0             NaN   \n",
              "4  989418  2968596     11    8.0          132  1354773.0             NaN   \n",
              "\n",
              "   OverweightValue  TrainerID    OwnerID  ...  Going  Weather  \\\n",
              "0              NaN    1198534  1289143.0  ...   Good   Cloudy   \n",
              "1              NaN    1188128  1140080.0  ...   Good   Cloudy   \n",
              "2              NaN    1199122  1448576.0  ...   Good   Cloudy   \n",
              "3              NaN    1049637  1487690.0  ...   Good   Cloudy   \n",
              "4              NaN    1140041  1403676.0  ...   Good   Cloudy   \n",
              "\n",
              "   Course_Distance  RaceType  TrackType  Handicap  eligibility  CourseID  \\\n",
              "0             1312      Flat       Turf       NaN     2YO only       380   \n",
              "1             1312      Flat       Turf       NaN     2YO only       380   \n",
              "2             1312      Flat       Turf       NaN     2YO only       380   \n",
              "3             1312      Flat       Turf       NaN     2YO only       380   \n",
              "4             1312      Flat       Turf       NaN     2YO only       380   \n",
              "\n",
              "   MeetingDate Won  \n",
              "0   02/05/2017   0  \n",
              "1   02/05/2017   0  \n",
              "2   02/05/2017   0  \n",
              "3   02/05/2017   1  \n",
              "4   02/05/2017   0  \n",
              "\n",
              "[5 rows x 46 columns]"
            ],
            "text/html": [
              "\n",
              "  <div id=\"df-79dc2e7f-be1b-4183-bc1a-4c2bafc86435\" class=\"colab-df-container\">\n",
              "    <div>\n",
              "<style scoped>\n",
              "    .dataframe tbody tr th:only-of-type {\n",
              "        vertical-align: middle;\n",
              "    }\n",
              "\n",
              "    .dataframe tbody tr th {\n",
              "        vertical-align: top;\n",
              "    }\n",
              "\n",
              "    .dataframe thead th {\n",
              "        text-align: right;\n",
              "    }\n",
              "</style>\n",
              "<table border=\"1\" class=\"dataframe\">\n",
              "  <thead>\n",
              "    <tr style=\"text-align: right;\">\n",
              "      <th></th>\n",
              "      <th>RaceID</th>\n",
              "      <th>HorseID</th>\n",
              "      <th>Cloth</th>\n",
              "      <th>Stall</th>\n",
              "      <th>WeightValue</th>\n",
              "      <th>JockeyID</th>\n",
              "      <th>AllowanceValue</th>\n",
              "      <th>OverweightValue</th>\n",
              "      <th>TrainerID</th>\n",
              "      <th>OwnerID</th>\n",
              "      <th>...</th>\n",
              "      <th>Going</th>\n",
              "      <th>Weather</th>\n",
              "      <th>Course_Distance</th>\n",
              "      <th>RaceType</th>\n",
              "      <th>TrackType</th>\n",
              "      <th>Handicap</th>\n",
              "      <th>eligibility</th>\n",
              "      <th>CourseID</th>\n",
              "      <th>MeetingDate</th>\n",
              "      <th>Won</th>\n",
              "    </tr>\n",
              "  </thead>\n",
              "  <tbody>\n",
              "    <tr>\n",
              "      <th>0</th>\n",
              "      <td>989418</td>\n",
              "      <td>2963489</td>\n",
              "      <td>7</td>\n",
              "      <td>5.0</td>\n",
              "      <td>132</td>\n",
              "      <td>1398052.0</td>\n",
              "      <td>NaN</td>\n",
              "      <td>NaN</td>\n",
              "      <td>1198534</td>\n",
              "      <td>1289143.0</td>\n",
              "      <td>...</td>\n",
              "      <td>Good</td>\n",
              "      <td>Cloudy</td>\n",
              "      <td>1312</td>\n",
              "      <td>Flat</td>\n",
              "      <td>Turf</td>\n",
              "      <td>NaN</td>\n",
              "      <td>2YO only</td>\n",
              "      <td>380</td>\n",
              "      <td>02/05/2017</td>\n",
              "      <td>0</td>\n",
              "    </tr>\n",
              "    <tr>\n",
              "      <th>1</th>\n",
              "      <td>989418</td>\n",
              "      <td>2972665</td>\n",
              "      <td>13</td>\n",
              "      <td>6.0</td>\n",
              "      <td>132</td>\n",
              "      <td>1165412.0</td>\n",
              "      <td>NaN</td>\n",
              "      <td>NaN</td>\n",
              "      <td>1188128</td>\n",
              "      <td>1140080.0</td>\n",
              "      <td>...</td>\n",
              "      <td>Good</td>\n",
              "      <td>Cloudy</td>\n",
              "      <td>1312</td>\n",
              "      <td>Flat</td>\n",
              "      <td>Turf</td>\n",
              "      <td>NaN</td>\n",
              "      <td>2YO only</td>\n",
              "      <td>380</td>\n",
              "      <td>02/05/2017</td>\n",
              "      <td>0</td>\n",
              "    </tr>\n",
              "    <tr>\n",
              "      <th>2</th>\n",
              "      <td>989418</td>\n",
              "      <td>2972662</td>\n",
              "      <td>9</td>\n",
              "      <td>7.0</td>\n",
              "      <td>132</td>\n",
              "      <td>1239852.0</td>\n",
              "      <td>NaN</td>\n",
              "      <td>NaN</td>\n",
              "      <td>1199122</td>\n",
              "      <td>1448576.0</td>\n",
              "      <td>...</td>\n",
              "      <td>Good</td>\n",
              "      <td>Cloudy</td>\n",
              "      <td>1312</td>\n",
              "      <td>Flat</td>\n",
              "      <td>Turf</td>\n",
              "      <td>NaN</td>\n",
              "      <td>2YO only</td>\n",
              "      <td>380</td>\n",
              "      <td>02/05/2017</td>\n",
              "      <td>0</td>\n",
              "    </tr>\n",
              "    <tr>\n",
              "      <th>3</th>\n",
              "      <td>989418</td>\n",
              "      <td>2960365</td>\n",
              "      <td>1</td>\n",
              "      <td>12.0</td>\n",
              "      <td>132</td>\n",
              "      <td>1417524.0</td>\n",
              "      <td>NaN</td>\n",
              "      <td>NaN</td>\n",
              "      <td>1049637</td>\n",
              "      <td>1487690.0</td>\n",
              "      <td>...</td>\n",
              "      <td>Good</td>\n",
              "      <td>Cloudy</td>\n",
              "      <td>1312</td>\n",
              "      <td>Flat</td>\n",
              "      <td>Turf</td>\n",
              "      <td>NaN</td>\n",
              "      <td>2YO only</td>\n",
              "      <td>380</td>\n",
              "      <td>02/05/2017</td>\n",
              "      <td>1</td>\n",
              "    </tr>\n",
              "    <tr>\n",
              "      <th>4</th>\n",
              "      <td>989418</td>\n",
              "      <td>2968596</td>\n",
              "      <td>11</td>\n",
              "      <td>8.0</td>\n",
              "      <td>132</td>\n",
              "      <td>1354773.0</td>\n",
              "      <td>NaN</td>\n",
              "      <td>NaN</td>\n",
              "      <td>1140041</td>\n",
              "      <td>1403676.0</td>\n",
              "      <td>...</td>\n",
              "      <td>Good</td>\n",
              "      <td>Cloudy</td>\n",
              "      <td>1312</td>\n",
              "      <td>Flat</td>\n",
              "      <td>Turf</td>\n",
              "      <td>NaN</td>\n",
              "      <td>2YO only</td>\n",
              "      <td>380</td>\n",
              "      <td>02/05/2017</td>\n",
              "      <td>0</td>\n",
              "    </tr>\n",
              "  </tbody>\n",
              "</table>\n",
              "<p>5 rows × 46 columns</p>\n",
              "</div>\n",
              "    <div class=\"colab-df-buttons\">\n",
              "\n",
              "  <div class=\"colab-df-container\">\n",
              "    <button class=\"colab-df-convert\" onclick=\"convertToInteractive('df-79dc2e7f-be1b-4183-bc1a-4c2bafc86435')\"\n",
              "            title=\"Convert this dataframe to an interactive table.\"\n",
              "            style=\"display:none;\">\n",
              "\n",
              "  <svg xmlns=\"http://www.w3.org/2000/svg\" height=\"24px\" viewBox=\"0 -960 960 960\">\n",
              "    <path d=\"M120-120v-720h720v720H120Zm60-500h600v-160H180v160Zm220 220h160v-160H400v160Zm0 220h160v-160H400v160ZM180-400h160v-160H180v160Zm440 0h160v-160H620v160ZM180-180h160v-160H180v160Zm440 0h160v-160H620v160Z\"/>\n",
              "  </svg>\n",
              "    </button>\n",
              "\n",
              "  <style>\n",
              "    .colab-df-container {\n",
              "      display:flex;\n",
              "      gap: 12px;\n",
              "    }\n",
              "\n",
              "    .colab-df-convert {\n",
              "      background-color: #E8F0FE;\n",
              "      border: none;\n",
              "      border-radius: 50%;\n",
              "      cursor: pointer;\n",
              "      display: none;\n",
              "      fill: #1967D2;\n",
              "      height: 32px;\n",
              "      padding: 0 0 0 0;\n",
              "      width: 32px;\n",
              "    }\n",
              "\n",
              "    .colab-df-convert:hover {\n",
              "      background-color: #E2EBFA;\n",
              "      box-shadow: 0px 1px 2px rgba(60, 64, 67, 0.3), 0px 1px 3px 1px rgba(60, 64, 67, 0.15);\n",
              "      fill: #174EA6;\n",
              "    }\n",
              "\n",
              "    .colab-df-buttons div {\n",
              "      margin-bottom: 4px;\n",
              "    }\n",
              "\n",
              "    [theme=dark] .colab-df-convert {\n",
              "      background-color: #3B4455;\n",
              "      fill: #D2E3FC;\n",
              "    }\n",
              "\n",
              "    [theme=dark] .colab-df-convert:hover {\n",
              "      background-color: #434B5C;\n",
              "      box-shadow: 0px 1px 3px 1px rgba(0, 0, 0, 0.15);\n",
              "      filter: drop-shadow(0px 1px 2px rgba(0, 0, 0, 0.3));\n",
              "      fill: #FFFFFF;\n",
              "    }\n",
              "  </style>\n",
              "\n",
              "    <script>\n",
              "      const buttonEl =\n",
              "        document.querySelector('#df-79dc2e7f-be1b-4183-bc1a-4c2bafc86435 button.colab-df-convert');\n",
              "      buttonEl.style.display =\n",
              "        google.colab.kernel.accessAllowed ? 'block' : 'none';\n",
              "\n",
              "      async function convertToInteractive(key) {\n",
              "        const element = document.querySelector('#df-79dc2e7f-be1b-4183-bc1a-4c2bafc86435');\n",
              "        const dataTable =\n",
              "          await google.colab.kernel.invokeFunction('convertToInteractive',\n",
              "                                                    [key], {});\n",
              "        if (!dataTable) return;\n",
              "\n",
              "        const docLinkHtml = 'Like what you see? Visit the ' +\n",
              "          '<a target=\"_blank\" href=https://colab.research.google.com/notebooks/data_table.ipynb>data table notebook</a>'\n",
              "          + ' to learn more about interactive tables.';\n",
              "        element.innerHTML = '';\n",
              "        dataTable['output_type'] = 'display_data';\n",
              "        await google.colab.output.renderOutput(dataTable, element);\n",
              "        const docLink = document.createElement('div');\n",
              "        docLink.innerHTML = docLinkHtml;\n",
              "        element.appendChild(docLink);\n",
              "      }\n",
              "    </script>\n",
              "  </div>\n",
              "\n",
              "\n",
              "<div id=\"df-3f8130e8-70aa-4646-977a-dbd95f6a961b\">\n",
              "  <button class=\"colab-df-quickchart\" onclick=\"quickchart('df-3f8130e8-70aa-4646-977a-dbd95f6a961b')\"\n",
              "            title=\"Suggest charts\"\n",
              "            style=\"display:none;\">\n",
              "\n",
              "<svg xmlns=\"http://www.w3.org/2000/svg\" height=\"24px\"viewBox=\"0 0 24 24\"\n",
              "     width=\"24px\">\n",
              "    <g>\n",
              "        <path d=\"M19 3H5c-1.1 0-2 .9-2 2v14c0 1.1.9 2 2 2h14c1.1 0 2-.9 2-2V5c0-1.1-.9-2-2-2zM9 17H7v-7h2v7zm4 0h-2V7h2v10zm4 0h-2v-4h2v4z\"/>\n",
              "    </g>\n",
              "</svg>\n",
              "  </button>\n",
              "\n",
              "<style>\n",
              "  .colab-df-quickchart {\n",
              "      --bg-color: #E8F0FE;\n",
              "      --fill-color: #1967D2;\n",
              "      --hover-bg-color: #E2EBFA;\n",
              "      --hover-fill-color: #174EA6;\n",
              "      --disabled-fill-color: #AAA;\n",
              "      --disabled-bg-color: #DDD;\n",
              "  }\n",
              "\n",
              "  [theme=dark] .colab-df-quickchart {\n",
              "      --bg-color: #3B4455;\n",
              "      --fill-color: #D2E3FC;\n",
              "      --hover-bg-color: #434B5C;\n",
              "      --hover-fill-color: #FFFFFF;\n",
              "      --disabled-bg-color: #3B4455;\n",
              "      --disabled-fill-color: #666;\n",
              "  }\n",
              "\n",
              "  .colab-df-quickchart {\n",
              "    background-color: var(--bg-color);\n",
              "    border: none;\n",
              "    border-radius: 50%;\n",
              "    cursor: pointer;\n",
              "    display: none;\n",
              "    fill: var(--fill-color);\n",
              "    height: 32px;\n",
              "    padding: 0;\n",
              "    width: 32px;\n",
              "  }\n",
              "\n",
              "  .colab-df-quickchart:hover {\n",
              "    background-color: var(--hover-bg-color);\n",
              "    box-shadow: 0 1px 2px rgba(60, 64, 67, 0.3), 0 1px 3px 1px rgba(60, 64, 67, 0.15);\n",
              "    fill: var(--button-hover-fill-color);\n",
              "  }\n",
              "\n",
              "  .colab-df-quickchart-complete:disabled,\n",
              "  .colab-df-quickchart-complete:disabled:hover {\n",
              "    background-color: var(--disabled-bg-color);\n",
              "    fill: var(--disabled-fill-color);\n",
              "    box-shadow: none;\n",
              "  }\n",
              "\n",
              "  .colab-df-spinner {\n",
              "    border: 2px solid var(--fill-color);\n",
              "    border-color: transparent;\n",
              "    border-bottom-color: var(--fill-color);\n",
              "    animation:\n",
              "      spin 1s steps(1) infinite;\n",
              "  }\n",
              "\n",
              "  @keyframes spin {\n",
              "    0% {\n",
              "      border-color: transparent;\n",
              "      border-bottom-color: var(--fill-color);\n",
              "      border-left-color: var(--fill-color);\n",
              "    }\n",
              "    20% {\n",
              "      border-color: transparent;\n",
              "      border-left-color: var(--fill-color);\n",
              "      border-top-color: var(--fill-color);\n",
              "    }\n",
              "    30% {\n",
              "      border-color: transparent;\n",
              "      border-left-color: var(--fill-color);\n",
              "      border-top-color: var(--fill-color);\n",
              "      border-right-color: var(--fill-color);\n",
              "    }\n",
              "    40% {\n",
              "      border-color: transparent;\n",
              "      border-right-color: var(--fill-color);\n",
              "      border-top-color: var(--fill-color);\n",
              "    }\n",
              "    60% {\n",
              "      border-color: transparent;\n",
              "      border-right-color: var(--fill-color);\n",
              "    }\n",
              "    80% {\n",
              "      border-color: transparent;\n",
              "      border-right-color: var(--fill-color);\n",
              "      border-bottom-color: var(--fill-color);\n",
              "    }\n",
              "    90% {\n",
              "      border-color: transparent;\n",
              "      border-bottom-color: var(--fill-color);\n",
              "    }\n",
              "  }\n",
              "</style>\n",
              "\n",
              "  <script>\n",
              "    async function quickchart(key) {\n",
              "      const quickchartButtonEl =\n",
              "        document.querySelector('#' + key + ' button');\n",
              "      quickchartButtonEl.disabled = true;  // To prevent multiple clicks.\n",
              "      quickchartButtonEl.classList.add('colab-df-spinner');\n",
              "      try {\n",
              "        const charts = await google.colab.kernel.invokeFunction(\n",
              "            'suggestCharts', [key], {});\n",
              "      } catch (error) {\n",
              "        console.error('Error during call to suggestCharts:', error);\n",
              "      }\n",
              "      quickchartButtonEl.classList.remove('colab-df-spinner');\n",
              "      quickchartButtonEl.classList.add('colab-df-quickchart-complete');\n",
              "    }\n",
              "    (() => {\n",
              "      let quickchartButtonEl =\n",
              "        document.querySelector('#df-3f8130e8-70aa-4646-977a-dbd95f6a961b button');\n",
              "      quickchartButtonEl.style.display =\n",
              "        google.colab.kernel.accessAllowed ? 'block' : 'none';\n",
              "    })();\n",
              "  </script>\n",
              "</div>\n",
              "\n",
              "    </div>\n",
              "  </div>\n"
            ],
            "application/vnd.google.colaboratory.intrinsic+json": {
              "type": "dataframe",
              "variable_name": "df"
            }
          },
          "metadata": {},
          "execution_count": 4
        }
      ],
      "execution_count": null
    },
    {
      "cell_type": "markdown",
      "source": [
        "### Data Exploration"
      ],
      "metadata": {
        "id": "PmQ30YnxvKhb"
      },
      "id": "PmQ30YnxvKhb"
    },
    {
      "id": "e178ea11-61cd-4665-9e81-4afcc44b3439",
      "cell_type": "code",
      "source": [
        "#Listing out all the columns\n",
        "df.columns"
      ],
      "metadata": {
        "trusted": true,
        "colab": {
          "base_uri": "https://localhost:8080/"
        },
        "id": "e178ea11-61cd-4665-9e81-4afcc44b3439",
        "outputId": "223cc439-e418-4236-a47b-f8b538aebd06"
      },
      "outputs": [
        {
          "output_type": "execute_result",
          "data": {
            "text/plain": [
              "Index(['RaceID', 'HorseID', 'Cloth', 'Stall', 'WeightValue', 'JockeyID',\n",
              "       'AllowanceValue', 'OverweightValue', 'TrainerID', 'OwnerID',\n",
              "       'LastRunDaysFlat', 'Age', 'Blinkers', 'Hood', 'Visor', 'EyeShield',\n",
              "       'Eyecover', 'TongueStrap', 'CheekPieces', 'ForecastPrice', 'StatCourse',\n",
              "       'StatDistance', 'StatCourseDistance', 'StartingPrice', 'Bred', 'DamID',\n",
              "       'SireID', 'DamSireID', 'Sex', 'Colour', 'YearBorn', 'MeetingID',\n",
              "       'RaceNumber', 'ScheduledTime', 'HorseCount', 'Runners', 'Going',\n",
              "       'Weather', 'Course_Distance', 'RaceType', 'TrackType', 'Handicap',\n",
              "       'eligibility', 'CourseID', 'MeetingDate', 'Won'],\n",
              "      dtype='object')"
            ]
          },
          "metadata": {},
          "execution_count": 5
        }
      ],
      "execution_count": null
    },
    {
      "id": "9e6ab1d0-7cb4-4d35-85fb-f58d83cc7340",
      "cell_type": "code",
      "source": [
        "#Finding out the date range for this CSV\n",
        "\n",
        "df['MeetingDate'] = pd.to_datetime(df['MeetingDate'], errors='coerce')\n",
        "first_meeting_date = df['MeetingDate'].min()\n",
        "last_meeting_date = df['MeetingDate'].max()\n",
        "print(\"First meeting date:\", first_meeting_date)\n",
        "print(\"Last meeting date:\", last_meeting_date)"
      ],
      "metadata": {
        "trusted": true,
        "colab": {
          "base_uri": "https://localhost:8080/"
        },
        "id": "9e6ab1d0-7cb4-4d35-85fb-f58d83cc7340",
        "outputId": "17fd6d7f-267e-4742-a728-8e4dcc299f27"
      },
      "outputs": [
        {
          "output_type": "stream",
          "name": "stdout",
          "text": [
            "First meeting date: 2017-01-06 00:00:00\n",
            "Last meeting date: 2018-12-01 00:00:00\n"
          ]
        }
      ],
      "execution_count": null
    },
    {
      "cell_type": "code",
      "source": [
        "unique_stat_course_distance = df['StatCourseDistance'].unique()\n",
        "unique_stat_course = df['StatCourse'].unique()\n",
        "unique_stat_distance = df['StatDistance'].unique()\n",
        "\n",
        "print(unique_stat_course_distance)\n",
        "print(unique_stat_course_distance)\n",
        "print(unique_stat_course_distance)"
      ],
      "metadata": {
        "colab": {
          "base_uri": "https://localhost:8080/"
        },
        "id": "oIsl9WD-IZ9T",
        "outputId": "f47797f2-e7ae-4cfe-9578-5146407fe3e5"
      },
      "id": "oIsl9WD-IZ9T",
      "execution_count": null,
      "outputs": [
        {
          "output_type": "stream",
          "name": "stdout",
          "text": [
            "[nan  1.  2.  3.  4.  6.  5.  7.]\n",
            "[nan  1.  2.  3.  4.  6.  5.  7.]\n",
            "[nan  1.  2.  3.  4.  6.  5.  7.]\n"
          ]
        }
      ]
    },
    {
      "cell_type": "markdown",
      "source": [
        "Unsure of the meaning of the columns\n",
        "\n",
        "What are the values at StatCourseDistance,StatCourse,StatDistance ?\n"
      ],
      "metadata": {
        "id": "zC9oSToTIVTR"
      },
      "id": "zC9oSToTIVTR"
    },
    {
      "cell_type": "code",
      "source": [
        "unique_RaceType = df['RaceType'].unique()\n",
        "\n",
        "print(unique_RaceType)"
      ],
      "metadata": {
        "colab": {
          "base_uri": "https://localhost:8080/"
        },
        "id": "LQECZV7mKKih",
        "outputId": "6a8875c7-1652-43ef-e084-4a805a3edaa9"
      },
      "id": "LQECZV7mKKih",
      "execution_count": null,
      "outputs": [
        {
          "output_type": "stream",
          "name": "stdout",
          "text": [
            "['Flat' nan]\n"
          ]
        }
      ]
    },
    {
      "cell_type": "markdown",
      "source": [
        "RaceType is always Flat for those with valid data, maybe could exclude it in the dimensional models ?\n",
        "Unless Jump races will be incoporated into the data at a future time"
      ],
      "metadata": {
        "id": "58tGKsRmKDEw"
      },
      "id": "58tGKsRmKDEw"
    },
    {
      "cell_type": "markdown",
      "source": [
        "### Validate data quality"
      ],
      "metadata": {
        "id": "zL9nJvoWvVQW"
      },
      "id": "zL9nJvoWvVQW"
    },
    {
      "id": "edfcabb2-9ba8-46bd-8cb0-0b296685ce4b",
      "cell_type": "code",
      "source": [
        "#Looking into prices/odds, which i think it's the most important key metrics to measure performance\n",
        "\n",
        "'''\n",
        "FP = df['ForecastPrice'].unique()\n",
        "print(sorted(FP))\n",
        "print (len(FP))\n",
        "'''"
      ],
      "metadata": {
        "trusted": true,
        "colab": {
          "base_uri": "https://localhost:8080/",
          "height": 36
        },
        "id": "edfcabb2-9ba8-46bd-8cb0-0b296685ce4b",
        "outputId": "cc72b8bf-02b7-483a-a32a-56ea280e85ab"
      },
      "outputs": [
        {
          "output_type": "execute_result",
          "data": {
            "text/plain": [
              "\"\\nFP = df['ForecastPrice'].unique()\\nprint(sorted(FP))\\nprint (len(FP))\\n\""
            ],
            "application/vnd.google.colaboratory.intrinsic+json": {
              "type": "string"
            }
          },
          "metadata": {},
          "execution_count": 9
        }
      ],
      "execution_count": null
    },
    {
      "id": "a24bad0f-1a66-4490-855d-d016e4b9e349",
      "cell_type": "code",
      "source": [
        "'''\n",
        "FP = df['StartingPrice'].unique()\n",
        "print(sorted(FP))\n",
        "print (len(FP))\n",
        "'''"
      ],
      "metadata": {
        "trusted": true,
        "colab": {
          "base_uri": "https://localhost:8080/",
          "height": 36
        },
        "id": "a24bad0f-1a66-4490-855d-d016e4b9e349",
        "outputId": "0235621a-010f-4ffc-e515-5bcbe873e4b0"
      },
      "outputs": [
        {
          "output_type": "execute_result",
          "data": {
            "text/plain": [
              "\"\\nFP = df['StartingPrice'].unique()\\nprint(sorted(FP))\\nprint (len(FP))\\n\""
            ],
            "application/vnd.google.colaboratory.intrinsic+json": {
              "type": "string"
            }
          },
          "metadata": {},
          "execution_count": 10
        }
      ],
      "execution_count": null
    },
    {
      "id": "9a2500b6-3778-4423-b3e1-5ea5316e0ff7",
      "cell_type": "markdown",
      "source": [
        "Same applies to StartingPrice"
      ],
      "metadata": {
        "id": "9a2500b6-3778-4423-b3e1-5ea5316e0ff7"
      }
    },
    {
      "cell_type": "markdown",
      "source": [
        "After running last cell, we see there are 2 types of data in this coloumn, STR and Float\n",
        "\n",
        "> typeError: '<' not supported between instances of 'float' and 'str'\n",
        "\n",
        "\n",
        " Block Commented so it can be executed all"
      ],
      "metadata": {
        "id": "JKDQypOXcEqu"
      },
      "id": "JKDQypOXcEqu"
    },
    {
      "id": "82690c37-08b7-46e0-8e57-2ff539cb9b4d",
      "cell_type": "code",
      "source": [
        "#Looking into odds, trying to see what's inside and obtain the **values**\n",
        "FP_float_values = pd.to_numeric(df['ForecastPrice'], errors='coerce').dropna().sort_values().unique()\n",
        "FP_string_values = df['ForecastPrice'][df['ForecastPrice'].apply(lambda x: isinstance(x, str))].unique()\n",
        "print (FP_float_values)\n",
        "print (FP_string_values)"
      ],
      "metadata": {
        "trusted": true,
        "colab": {
          "base_uri": "https://localhost:8080/"
        },
        "id": "82690c37-08b7-46e0-8e57-2ff539cb9b4d",
        "outputId": "0fd8fb04-3301-4604-830a-02bc7660322e"
      },
      "outputs": [
        {
          "output_type": "stream",
          "name": "stdout",
          "text": [
            "[-1.]\n",
            "['16-Jan' '20-Jan' '10-Jan' '07-Apr' '08-Jan' '14-Jan' '03-Jan' '25-Jan'\n",
            " '13-Feb' '09-Apr' '12-Jan' '09-Feb' '05-Jan' '33/1' '04-Jan' '02-Jan'\n",
            " '07-Jan' '66/1' '05-Feb' '06-Apr' '50/1' '06-Jan' '07-Feb' '11-Feb'\n",
            " '08-Nov' '11-Apr' '13-Aug' 'Aug-15' '10-Nov' '05-Apr' '01-Jan' '06-May'\n",
            " '-1' '15-Aug' '100/1' '01-Apr' '10-Mar' '04-May' '99/1' '35/1' '01-Feb'\n",
            " '11-Aug' '07-Oct' '01-May' '18-Jan' '22-Jan' '40/1' '04-Jun' '09-May'\n",
            " '14-May' '07-May' '33/10' '11-Oct' '16-Oct' '04-Jul' '09-Oct' '02-May']\n"
          ]
        }
      ],
      "execution_count": null
    },
    {
      "id": "4365b739-6642-4167-9098-145ab935535c",
      "cell_type": "code",
      "source": [
        "SP_float_values = pd.to_numeric(df['StartingPrice'], errors='coerce').dropna().sort_values().unique()\n",
        "SP_string_values = df['StartingPrice'][df['StartingPrice'].apply(lambda x: isinstance(x, str))].unique()\n",
        "print (SP_float_values)\n",
        "print (SP_string_values)"
      ],
      "metadata": {
        "trusted": true,
        "colab": {
          "base_uri": "https://localhost:8080/"
        },
        "id": "4365b739-6642-4167-9098-145ab935535c",
        "outputId": "310f1b47-175e-4178-8592-33a68abd7047"
      },
      "outputs": [
        {
          "output_type": "stream",
          "name": "stdout",
          "text": [
            "[]\n",
            "['12-Jan' '40/1' '11-Oct' '28-Jan' '33/1' '50/1' '16-Jan' '11-Aug'\n",
            " '06-Jan' '100/1' '17-Feb' '66/1' '09-Feb' '05-Jun' '14-Jan' '13-Feb'\n",
            " '10-Mar' '18-Jan' '07-Apr' '15-Aug' '22-Jan' '03-Jan' '05-Feb' '09-Jan'\n",
            " '07-Jan' '11-Feb' '08-Jan' '11-Jan' '10-Jan' '04-Jan' '09-Apr' '25-Jan'\n",
            " '07-Feb' '11-Apr' '15-Feb' '05-Jan' '30-Jan' '02-Jan' '20-Jan' '01-Jan'\n",
            " '10-Nov' '80/1' '85/40' '05-Apr' '06-May' '13-Aug' '06-Apr' '08-Nov'\n",
            " '01-Feb' '16-Oct' '04-May' '75/1' '13-May' '07-May' '55/1' '45/1'\n",
            " '07-Oct' '21/20' '02-Jul' '03-May' '01-Mar' '04-Nov' '04-Jul' '01-Jul'\n",
            " '04-Sep' '02-May' 'Aug-13' '04-Jun' '01-Apr' '01-Sep' '15-Jan' '13-Jan'\n",
            " '13-Oct' '17-Oct' '01-Jun' '03-Oct' '14-May' '125/1' '09-Oct' 'Aug-15'\n",
            " '02-Nov' '150/1' '13/20' '33/10' '03-Apr' '60/1' '70/1' '02-Sep']\n"
          ]
        }
      ],
      "execution_count": null
    },
    {
      "id": "04f88d24-2eaf-4f4c-884e-8ec21ab43e31",
      "cell_type": "markdown",
      "source": [
        "Looking at the distinct values in ForecastPrice, it containes date values and Fractional Values\n",
        "They should all be fraction values but some of them got converted to date value\n",
        "Note: To verify this to the data provider"
      ],
      "metadata": {
        "id": "04f88d24-2eaf-4f4c-884e-8ec21ab43e31"
      }
    },
    {
      "cell_type": "code",
      "source": [
        "#Once Data Provider has replied, change this into Fractional Odds\n",
        "\n",
        "df['ForecastPrice'] = df['ForecastPrice'].astype(str)\n",
        "df['StartingPrice'] = df['StartingPrice'].astype(str)\n",
        "\n",
        "# Remove '/24' just incase there are data for 2024 included from the 'ForecastPrice' and 'StartingPrice' columns\n",
        "df['ForecastPrice'] = df['ForecastPrice'].str.replace('/24', '', regex=False)\n",
        "df['StartingPrice'] = df['StartingPrice'].str.replace('/24', '', regex=False)\n",
        "\n",
        "# Replace - with /:\n",
        "df['ForecastPrice'] = df['ForecastPrice'].str.replace('-', '/', regex=False)\n",
        "df['StartingPrice'] = df['StartingPrice'].str.replace('-', '/', regex=False)\n",
        "\n",
        "# Replace month with numbers:\n",
        "month_mapping = {\n",
        "    'Jan': '1', 'Feb': '2', 'Mar': '3', 'Apr': '4',\n",
        "    'May': '5', 'Jun': '6', 'Jul': '7', 'Aug': '8',\n",
        "    'Sep': '9', 'Oct': '10', 'Nov': '11', 'Dec': '12'}\n",
        "\n",
        "df['ForecastPrice'] = df['ForecastPrice'].replace(month_mapping, regex=True)\n",
        "df['StartingPrice'] = df['StartingPrice'].replace(month_mapping, regex=True)\n",
        "\n",
        "#Get rid of the leading 0\n",
        "df['ForecastPrice'] = df['ForecastPrice'].str.lstrip('0')\n",
        "df['StartingPrice'] = df['StartingPrice'].str.lstrip('0')\n",
        "\n",
        "print(df[['ForecastPrice','StartingPrice']])"
      ],
      "metadata": {
        "colab": {
          "base_uri": "https://localhost:8080/"
        },
        "id": "Mp_C70Is0TdI",
        "outputId": "b474ecdf-e5c3-4076-deac-3ef46c5a453e"
      },
      "id": "Mp_C70Is0TdI",
      "execution_count": null,
      "outputs": [
        {
          "output_type": "stream",
          "name": "stdout",
          "text": [
            "      ForecastPrice StartingPrice\n",
            "0              16/1          12/1\n",
            "1              20/1          40/1\n",
            "2              10/1           nan\n",
            "3               7/4         11/10\n",
            "4               8/1           nan\n",
            "...             ...           ...\n",
            "36814          50/1          66/1\n",
            "36815          33/1          18/1\n",
            "36816          50/1           nan\n",
            "36817           7/1          12/1\n",
            "36818          50/1         100/1\n",
            "\n",
            "[36819 rows x 2 columns]\n"
          ]
        }
      ]
    },
    {
      "cell_type": "code",
      "source": [
        "#Convert Fractional into Decimal odds, and change the dtype\n",
        "def convert_fraction_to_float(value):\n",
        "    try:\n",
        "        # Check if it's a valid fraction (should contain both numerator and denominator)\n",
        "        if '/' in value and value.split('/')[0]:  # Ensures there's a numerator before '/'\n",
        "            return float(Fraction(value))  # Convert valid fraction to float\n",
        "        else:\n",
        "            return None  # Return None for invalid fraction (e.g '/1' (One of the data contain this))\n",
        "    except (ValueError, TypeError):\n",
        "        return None  # Error handling\n",
        "\n",
        "# Make sure the 'ForecastPrice' and 'StartingPrice' column is treated as a str\n",
        "df['ForecastPrice'] = df['ForecastPrice'].astype(str)\n",
        "df['StartingPrice'] = df['StartingPrice'].astype(str)\n",
        "\n",
        "\n",
        "# Apply the function to the 'ForecastPrice' column\n",
        "df['ForecastPrice'] = df['ForecastPrice'].apply(convert_fraction_to_float)\n",
        "df['StartingPrice'] = df['StartingPrice'].apply(convert_fraction_to_float)\n",
        "\n",
        "\n",
        "# Print the result\n",
        "print(df['ForecastPrice'].head())\n",
        "print(df['StartingPrice'].head())"
      ],
      "metadata": {
        "colab": {
          "base_uri": "https://localhost:8080/"
        },
        "id": "Nz4XvXqBA2Wu",
        "outputId": "3f0701ee-6169-493d-ef6c-24a514395250"
      },
      "id": "Nz4XvXqBA2Wu",
      "execution_count": null,
      "outputs": [
        {
          "output_type": "stream",
          "name": "stdout",
          "text": [
            "0    16.00\n",
            "1    20.00\n",
            "2    10.00\n",
            "3     1.75\n",
            "4     8.00\n",
            "Name: ForecastPrice, dtype: float64\n",
            "0    12.0\n",
            "1    40.0\n",
            "2     NaN\n",
            "3     1.1\n",
            "4     NaN\n",
            "Name: StartingPrice, dtype: float64\n"
          ]
        }
      ]
    },
    {
      "id": "adb7a655-dc8c-4e3b-9970-31f0f6cb44c2",
      "cell_type": "code",
      "source": [
        "df['OverweightValue'].count()"
      ],
      "metadata": {
        "trusted": true,
        "colab": {
          "base_uri": "https://localhost:8080/"
        },
        "id": "adb7a655-dc8c-4e3b-9970-31f0f6cb44c2",
        "outputId": "257e58f0-6f7c-4744-cd45-9535c76b0803"
      },
      "outputs": [
        {
          "output_type": "execute_result",
          "data": {
            "text/plain": [
              "106"
            ]
          },
          "metadata": {},
          "execution_count": 15
        }
      ],
      "execution_count": null
    },
    {
      "cell_type": "markdown",
      "source": [
        "It looks like an empty column so double checking, there are 106 values"
      ],
      "metadata": {
        "id": "WhslZuKwdYDN"
      },
      "id": "WhslZuKwdYDN"
    },
    {
      "cell_type": "markdown",
      "source": [
        "### Identify Metrics"
      ],
      "metadata": {
        "id": "ngIlH2NKvqP2"
      },
      "id": "ngIlH2NKvqP2"
    },
    {
      "id": "c2c154b8-b823-495f-b2a1-1a873a034547",
      "cell_type": "code",
      "source": [
        "#See how many wins there are, this also determines how many individual races there are\n",
        "\n",
        "win_distribution = df['Won'].value_counts()\n",
        "print(win_distribution)"
      ],
      "metadata": {
        "trusted": true,
        "colab": {
          "base_uri": "https://localhost:8080/"
        },
        "id": "c2c154b8-b823-495f-b2a1-1a873a034547",
        "outputId": "34a8af8d-b9c3-45bf-d07a-7b3248cb163d"
      },
      "outputs": [
        {
          "output_type": "stream",
          "name": "stdout",
          "text": [
            "Won\n",
            "0    33912\n",
            "1     2907\n",
            "Name: count, dtype: int64\n"
          ]
        }
      ],
      "execution_count": null
    },
    {
      "id": "2e878b95-174e-42ea-bab6-ffa895c0fb97",
      "cell_type": "code",
      "source": [
        "#Check if Horse ID and Owner ID is one to one\n",
        "owner_changes = df.groupby('HorseID')['OwnerID'].nunique()\n",
        "\n",
        "horses_with_owner_changes = owner_changes[owner_changes > 1]\n",
        "\n",
        "print(horses_with_owner_changes)"
      ],
      "metadata": {
        "trusted": true,
        "colab": {
          "base_uri": "https://localhost:8080/"
        },
        "id": "2e878b95-174e-42ea-bab6-ffa895c0fb97",
        "outputId": "2d190447-6b99-48bd-dca3-ef971a76bf53"
      },
      "outputs": [
        {
          "output_type": "stream",
          "name": "stdout",
          "text": [
            "HorseID\n",
            "2708316    2\n",
            "2729640    2\n",
            "2730380    2\n",
            "2742993    2\n",
            "2749288    2\n",
            "          ..\n",
            "3005839    2\n",
            "3007502    2\n",
            "3007508    2\n",
            "3008055    2\n",
            "3008062    2\n",
            "Name: OwnerID, Length: 573, dtype: int64\n"
          ]
        }
      ],
      "execution_count": null
    },
    {
      "id": "0af9e13b-e894-4478-9f21-7df65c48c666",
      "cell_type": "markdown",
      "source": [
        "Was going to put Horse ID and Owner ID into the same table (on the ERD), but turns out there are 573 horses with owner changes"
      ],
      "metadata": {
        "id": "0af9e13b-e894-4478-9f21-7df65c48c666"
      }
    },
    {
      "id": "4bfc0bd4-5b65-461d-a38c-26e96566e530",
      "cell_type": "code",
      "source": [
        "#Win Rate for Horse and Jockey\n",
        "'''\n",
        "win_rate_by_horse = df.groupby('HorseID')['Won'].mean() * 100\n",
        "\n",
        "win_rate_by_jockey = df.groupby('JockeyID')['Won'].mean() * 100\n",
        "\n",
        "print (win_rate_by_horse.value_counts().sort_index(ascending=False))\n",
        "print (win_rate_by_jockey.value_counts().sort_index(ascending=False))\n",
        "'''\n",
        "\n",
        "\n",
        "# Calculate Win Rate for Horse and Jockey\n",
        "win_rate_by_horse = df.groupby('HorseID')['Won'].mean() * 100\n",
        "win_rate_by_jockey = df.groupby('JockeyID')['Won'].mean() * 100\n",
        "\n",
        "# Create DataFrames that include the IDs along with win rates\n",
        "win_rate_by_horse_df = win_rate_by_horse.reset_index(name='WinRate')\n",
        "win_rate_by_jockey_df = win_rate_by_jockey.reset_index(name='WinRate')\n",
        "\n",
        "# Sort by win rate in descending order and print the result\n",
        "print(\"Win Rate by Horse:\")\n",
        "print(win_rate_by_horse_df.sort_values(by='WinRate', ascending=False))\n",
        "\n",
        "print(\"Win Rate by Jockey:\")\n",
        "print(win_rate_by_jockey_df.sort_values(by='WinRate', ascending=False))\n"
      ],
      "metadata": {
        "trusted": true,
        "colab": {
          "base_uri": "https://localhost:8080/"
        },
        "id": "4bfc0bd4-5b65-461d-a38c-26e96566e530",
        "outputId": "6e9cbaa7-4326-417a-9c2b-229b8fbd4071"
      },
      "outputs": [
        {
          "output_type": "stream",
          "name": "stdout",
          "text": [
            "Win Rate by Horse:\n",
            "      HorseID  WinRate\n",
            "5780  3008072    100.0\n",
            "5557  3004981    100.0\n",
            "5362  3001088    100.0\n",
            "4320  2978290    100.0\n",
            "5468  3003083    100.0\n",
            "...       ...      ...\n",
            "2350  2933357      0.0\n",
            "2348  2933355      0.0\n",
            "2347  2933353      0.0\n",
            "2344  2933350      0.0\n",
            "6063  3013308      0.0\n",
            "\n",
            "[6064 rows x 2 columns]\n",
            "Win Rate by Jockey:\n",
            "      JockeyID  WinRate\n",
            "235  1496022.0    100.0\n",
            "240  1499530.0     60.0\n",
            "173  1468748.0     50.0\n",
            "186  1472303.0     50.0\n",
            "214  1495007.0     50.0\n",
            "..         ...      ...\n",
            "135  1389064.0      0.0\n",
            "133  1388527.0      0.0\n",
            "132  1388338.0      0.0\n",
            "127  1378492.0      0.0\n",
            "247  1503269.0      0.0\n",
            "\n",
            "[248 rows x 2 columns]\n"
          ]
        }
      ],
      "execution_count": null
    },
    {
      "id": "c8e23fb6-bbc6-4a73-bc5c-239d0294ec5c",
      "cell_type": "code",
      "source": [
        "#Starting Price would tell us a lot of the market movement But since there are questions about the data format the below couldn't be executed\n",
        "average_starting_price = df.groupby('HorseID')['StartingPrice'].mean()\n",
        "\n",
        "average_starting_price_df = average_starting_price.reset_index()\n",
        "\n",
        "average_starting_price_df.columns = ['HorseID', 'average_starting_price']\n",
        "print(average_starting_price_df)\n",
        "\n",
        "average_starting_price_df_sorted = average_starting_price_df.sort_values(by='average_starting_price')\n",
        "print(average_starting_price_df_sorted)"
      ],
      "metadata": {
        "trusted": true,
        "id": "c8e23fb6-bbc6-4a73-bc5c-239d0294ec5c",
        "colab": {
          "base_uri": "https://localhost:8080/"
        },
        "outputId": "6b4948d8-269a-49f3-da34-ff1667370c84"
      },
      "outputs": [
        {
          "output_type": "stream",
          "name": "stdout",
          "text": [
            "      HorseID  average_starting_price\n",
            "0     2261982                3.614583\n",
            "1     2620254               22.000000\n",
            "2     2656091               27.500000\n",
            "3     2658984               77.857143\n",
            "4     2668444               39.000000\n",
            "...       ...                     ...\n",
            "6059  3013304                     NaN\n",
            "6060  3013305                     NaN\n",
            "6061  3013306                     NaN\n",
            "6062  3013307                     NaN\n",
            "6063  3013308                     NaN\n",
            "\n",
            "[6064 rows x 2 columns]\n",
            "      HorseID  average_starting_price\n",
            "3323  2958031                0.574359\n",
            "5362  3001088                0.600000\n",
            "5769  3008061                0.727273\n",
            "3970  2972556                0.750000\n",
            "5798  3008411                0.790909\n",
            "...       ...                     ...\n",
            "6059  3013304                     NaN\n",
            "6060  3013305                     NaN\n",
            "6061  3013306                     NaN\n",
            "6062  3013307                     NaN\n",
            "6063  3013308                     NaN\n",
            "\n",
            "[6064 rows x 2 columns]\n"
          ]
        }
      ],
      "execution_count": null
    },
    {
      "cell_type": "markdown",
      "source": [
        "One thing i realised, after the conversion of fractional into decimal odds, it looks different. It turns out it is now in Hong Kong odds\n",
        "\n",
        "\n",
        "\n",
        "> A variation of fractional odds is known as Hong Kong odds. Fractional and Hong Kong odds are actually exchangeable. The only difference is that the UK odds are presented as a fractional notation (e.g. 6/5) whilst the Hong Kong odds are decimal (e.g. 1.2). Both exhibit the net return.\n",
        "\n",
        "\n",
        "\n",
        "Reason to change it into decimal/Hong Kong odds:\n",
        "\n",
        "\n",
        "*   Easier to understand how much profit you will make\n",
        "*   Don't need to deal with fractions\n",
        "*   Much easier to understand for those who are not familiar with odds\n",
        "\n",
        "\n",
        "\n",
        "\n",
        "\n",
        "\n"
      ],
      "metadata": {
        "id": "5cUxnB_JfoDi"
      },
      "id": "5cUxnB_JfoDi"
    },
    {
      "id": "c5de44ef-2602-44b6-b411-87253c3157d6",
      "cell_type": "code",
      "source": [
        "#Trainers often provide a good insight to a horse, so finding out which trainer have the most success rate would be useful\n",
        "trainer_stats = df.groupby('TrainerID').agg(\n",
        "total_races=('RaceID', 'count'),\n",
        "total_wins=('Won', 'sum'))\n",
        "\n",
        "trainer_stats['win_rate'] = (trainer_stats['total_wins'] / trainer_stats['total_races']) * 100\n",
        "trainer_stats = trainer_stats.sort_values(by='win_rate', ascending=False)\n",
        "\n",
        "print(trainer_stats[['total_races', 'total_wins', 'win_rate']])"
      ],
      "metadata": {
        "trusted": true,
        "colab": {
          "base_uri": "https://localhost:8080/"
        },
        "id": "c5de44ef-2602-44b6-b411-87253c3157d6",
        "outputId": "ff3d843f-e6d1-40b0-dec1-9301e4d745bd"
      },
      "outputs": [
        {
          "output_type": "stream",
          "name": "stdout",
          "text": [
            "           total_races  total_wins   win_rate\n",
            "TrainerID                                    \n",
            "1101907            146          26  17.808219\n",
            "1049637            617          92  14.910859\n",
            "1240122            233          34  14.592275\n",
            "1188319             55           8  14.545455\n",
            "1392174            395          55  13.924051\n",
            "...                ...         ...        ...\n",
            "1188086             60           0   0.000000\n",
            "1154139             82           0   0.000000\n",
            "1291819             29           0   0.000000\n",
            "1079224             33           0   0.000000\n",
            "1502153             13           0   0.000000\n",
            "\n",
            "[160 rows x 3 columns]\n"
          ]
        }
      ],
      "execution_count": null
    },
    {
      "id": "9efa9f9e-0bc5-4600-9cda-d1f267757860",
      "cell_type": "markdown",
      "source": [
        "The same could be done with owners\n",
        "\n"
      ],
      "metadata": {
        "id": "9efa9f9e-0bc5-4600-9cda-d1f267757860"
      }
    },
    {
      "id": "e9e4c713-f871-4bc1-ab86-7e8858b01eba",
      "cell_type": "markdown",
      "source": [
        "Date since last run\n",
        "1. Some better when fresh\n",
        "2. Some better after a recent run (Warmed up)\n",
        "\n",
        "LastRunDaysFlat from the name seems to be what I am looking for, but best to double confirm with the data provider\n"
      ],
      "metadata": {
        "id": "e9e4c713-f871-4bc1-ab86-7e8858b01eba"
      }
    },
    {
      "id": "c868e11c-13ae-412d-b174-3e4b6c1dd955",
      "cell_type": "markdown",
      "source": [
        "Course Distance and Turf Horses would have preferred condition when running\n"
      ],
      "metadata": {
        "id": "c868e11c-13ae-412d-b174-3e4b6c1dd955"
      }
    },
    {
      "id": "14d33dce-e5a2-4e17-bfd1-dc202663eb92",
      "cell_type": "code",
      "source": [
        "#Using the same logic for trainers but with horses this time, along with the track type and distance\n",
        "horse_performance = df.groupby(['HorseID', 'Course_Distance', 'TrackType']).agg(\n",
        "total_races=('RaceID', 'count'),\n",
        "total_wins=('Won', 'sum'))\n",
        "\n",
        "horse_performance['win_rate'] = (horse_performance['total_wins'] / horse_performance['total_races']) * 100\n",
        "horse_performance = horse_performance.sort_values(by='win_rate', ascending=False)\n",
        "#Filters can be used here\n",
        "turf_performance = horse_performance[horse_performance.index.get_level_values('TrackType') == 'Sand']\n",
        "course_distance_performance = horse_performance[horse_performance.index.get_level_values('Course_Distance') == 1531]\n",
        "\n",
        "print(course_distance_performance[['total_races', 'total_wins', 'win_rate']])\n"
      ],
      "metadata": {
        "trusted": true,
        "colab": {
          "base_uri": "https://localhost:8080/"
        },
        "id": "14d33dce-e5a2-4e17-bfd1-dc202663eb92",
        "outputId": "743ee193-cdb0-4e15-f0f8-9743730f361f"
      },
      "outputs": [
        {
          "output_type": "stream",
          "name": "stdout",
          "text": [
            "                                   total_races  total_wins  win_rate\n",
            "HorseID Course_Distance TrackType                                   \n",
            "2855247 1531            Polytrack            1           1     100.0\n",
            "2962264 1531            Turf                 1           1     100.0\n",
            "2962260 1531            Polytrack            1           1     100.0\n",
            "2859835 1531            Turf                 1           1     100.0\n",
            "2993403 1531            Turf                 1           1     100.0\n",
            "...                                        ...         ...       ...\n",
            "2924674 1531            Turf                 1           0       0.0\n",
            "2924953 1531            Turf                 2           0       0.0\n",
            "2924671 1531            Turf                 1           0       0.0\n",
            "2924949 1531            Turf                 1           0       0.0\n",
            "2924953 1531            Polytrack            1           0       0.0\n",
            "\n",
            "[3692 rows x 3 columns]\n"
          ]
        }
      ],
      "execution_count": null
    },
    {
      "cell_type": "markdown",
      "source": [
        "### Data model"
      ],
      "metadata": {
        "id": "gY73VciCv-xo"
      },
      "id": "gY73VciCv-xo"
    },
    {
      "id": "30652005-d6bf-4bfb-a5f6-e9b22919dd32",
      "cell_type": "markdown",
      "source": [
        "What the numbers mean on the accessories\n",
        "Accessories: 'Blinkers', 'Hood', 'Visor', 'EyeShield',\n",
        "       'Eyecover', 'TongueStrap', 'CheekPieces'\n"
      ],
      "metadata": {
        "id": "30652005-d6bf-4bfb-a5f6-e9b22919dd32"
      }
    },
    {
      "cell_type": "markdown",
      "source": [
        "Nice to have from Data:\n",
        "Place Rates, Finishing position\n"
      ],
      "metadata": {
        "id": "LljnNirBKqAa"
      },
      "id": "LljnNirBKqAa"
    },
    {
      "cell_type": "markdown",
      "source": [
        "As shown in the code above, some are my perfered metrics when it comes to this horse racing data set\n",
        "\n",
        "*   Win/Place Rate\n",
        "*   Jockey/Trainer/Owner win rate\n",
        "*   Course/Turf/Weather conditions\n",
        "*   Horse age/accessories/Weight/\n",
        "*   Age/Sex/Bred/Dam/Sire\n"
      ],
      "metadata": {
        "id": "rxfZrdJyLj4k"
      },
      "id": "rxfZrdJyLj4k"
    },
    {
      "cell_type": "markdown",
      "source": [
        "Analyzing Forecast Price vs. Starting Price can help identify market trends. By determining the correlation between the horse's performance and the percentage drop from the forecast price to the starting price, you can identify horses with significant drops in odds. Such horses are likely to attract increasing market interest, making them potentially good value picks when only the forecast prices are available. Market movements indicate that these horses might have a high probability of performing well, as reflected in the odds drop."
      ],
      "metadata": {
        "id": "XRu3MkrWASgs"
      },
      "id": "XRu3MkrWASgs"
    },
    {
      "cell_type": "markdown",
      "source": [
        "![Database ER diagram (HorseRacing).jpeg](data:image/jpeg;base64,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)"
      ],
      "metadata": {
        "id": "X8HrEmNAlbJI"
      },
      "id": "X8HrEmNAlbJI"
    },
    {
      "cell_type": "code",
      "source": [
        "#When doing the ERD, noticed Won was not a bool, changing it into bool\n",
        "\n",
        "print(df.dtypes)\n",
        "'''\n",
        "df['Won'] = df['Won'].astype(bool)\n",
        "print(df['Won'].dtypes)\n",
        "'''"
      ],
      "metadata": {
        "id": "7HaG2kjfjd95",
        "colab": {
          "base_uri": "https://localhost:8080/",
          "height": 894
        },
        "outputId": "ddfd903e-eeea-45ae-ae51-78ce9509875d"
      },
      "id": "7HaG2kjfjd95",
      "execution_count": null,
      "outputs": [
        {
          "output_type": "stream",
          "name": "stdout",
          "text": [
            "RaceID                         int64\n",
            "HorseID                        int64\n",
            "Cloth                          int64\n",
            "Stall                        float64\n",
            "WeightValue                    int64\n",
            "JockeyID                     float64\n",
            "AllowanceValue               float64\n",
            "OverweightValue              float64\n",
            "TrainerID                      int64\n",
            "OwnerID                      float64\n",
            "LastRunDaysFlat              float64\n",
            "Age                          float64\n",
            "Blinkers                     float64\n",
            "Hood                         float64\n",
            "Visor                        float64\n",
            "EyeShield                    float64\n",
            "Eyecover                     float64\n",
            "TongueStrap                  float64\n",
            "CheekPieces                  float64\n",
            "ForecastPrice                float64\n",
            "StatCourse                   float64\n",
            "StatDistance                 float64\n",
            "StatCourseDistance           float64\n",
            "StartingPrice                float64\n",
            "Bred                          object\n",
            "DamID                        float64\n",
            "SireID                       float64\n",
            "DamSireID                    float64\n",
            "Sex                           object\n",
            "Colour                        object\n",
            "YearBorn                     float64\n",
            "MeetingID                      int64\n",
            "RaceNumber                     int64\n",
            "ScheduledTime                 object\n",
            "HorseCount                     int64\n",
            "Runners                      float64\n",
            "Going                         object\n",
            "Weather                       object\n",
            "Course_Distance                int64\n",
            "RaceType                      object\n",
            "TrackType                     object\n",
            "Handicap                     float64\n",
            "eligibility                   object\n",
            "CourseID                       int64\n",
            "MeetingDate           datetime64[ns]\n",
            "Won                             bool\n",
            "dtype: object\n"
          ]
        },
        {
          "output_type": "execute_result",
          "data": {
            "text/plain": [
              "\"\\ndf['Won'] = df['Won'].astype(bool)\\nprint(df['Won'].dtypes)\\n\""
            ],
            "application/vnd.google.colaboratory.intrinsic+json": {
              "type": "string"
            }
          },
          "metadata": {},
          "execution_count": 28
        }
      ]
    },
    {
      "cell_type": "markdown",
      "source": [
        "Unsure about the data in DimCourse"
      ],
      "metadata": {
        "id": "iRTA-wk6iLjJ"
      },
      "id": "iRTA-wk6iLjJ"
    },
    {
      "cell_type": "markdown",
      "source": [
        "If additional information is provided for JockeyID, TrainerID, and OwnerID—such as name, experience, or win rate—then each of these entities should be assigned its own dimension table (DimJockey, DimTrainer, and DimOwner). These dimension tables will store detailed attributes that can be used to analyse their impact on race performance."
      ],
      "metadata": {
        "id": "fmfZiVW2Ntxr"
      },
      "id": "fmfZiVW2Ntxr"
    },
    {
      "cell_type": "markdown",
      "source": [
        "### Conclusion\n",
        "Thank you for taking the time to review my work on this project.\n",
        "\n",
        "I hope my approach and the insights provided are clear and valuable. You will also find a Database ER diagram (Horses_Racing).pdf containing the ERD for the horse racing data model.\n",
        "\n",
        "Any Feedbacks would be apperciated"
      ],
      "metadata": {
        "id": "_Ht6srT8hawR"
      },
      "id": "_Ht6srT8hawR"
    },
    {
      "cell_type": "code",
      "source": [],
      "metadata": {
        "id": "ScJUeZ828ADL"
      },
      "id": "ScJUeZ828ADL",
      "execution_count": null,
      "outputs": []
    }
  ]
}